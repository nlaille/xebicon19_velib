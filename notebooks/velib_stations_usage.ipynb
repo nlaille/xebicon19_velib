{
 "cells": [
  {
   "cell_type": "markdown",
   "metadata": {},
   "source": [
    "# Xebicon '19\n",
    "\n",
    "Disponibilité des Velib dans la ville de Paris.\n",
    "\n",
    "Basé surl'OpenData de la ville Paris : https://opendata.paris.fr/pages/home/\n",
    "\n",
    "En utilisant le dataset Velib datasets : https://opendata.paris.fr/explore/dataset/velib-disponibilite-en-temps-reel/information/"
   ]
  },
  {
   "cell_type": "code",
   "execution_count": 27,
   "metadata": {},
   "outputs": [],
   "source": [
    "#!pip install -r ../requirements.txt"
   ]
  },
  {
   "cell_type": "code",
   "execution_count": 28,
   "metadata": {},
   "outputs": [],
   "source": [
    "import pandas as pd"
   ]
  },
  {
   "cell_type": "code",
   "execution_count": 29,
   "metadata": {},
   "outputs": [],
   "source": [
    "stations = pd.read_csv(\"https://opendata.paris.fr/api/v2/catalog/datasets/velib-disponibilite-en-temps-reel/exports/csv?rows=-1&timezone=UTC&delimiter=%3B\", delimiter=\";\")"
   ]
  },
  {
   "cell_type": "code",
   "execution_count": 30,
   "metadata": {},
   "outputs": [
    {
     "data": {
      "text/html": [
       "<div>\n",
       "<style scoped>\n",
       "    .dataframe tbody tr th:only-of-type {\n",
       "        vertical-align: middle;\n",
       "    }\n",
       "\n",
       "    .dataframe tbody tr th {\n",
       "        vertical-align: top;\n",
       "    }\n",
       "\n",
       "    .dataframe thead th {\n",
       "        text-align: right;\n",
       "    }\n",
       "</style>\n",
       "<table border=\"1\" class=\"dataframe\">\n",
       "  <thead>\n",
       "    <tr style=\"text-align: right;\">\n",
       "      <th></th>\n",
       "      <th>nbfreeedock</th>\n",
       "      <th>nbbikeoverflow</th>\n",
       "      <th>nbedock</th>\n",
       "      <th>overflowactivation</th>\n",
       "      <th>densitylevel</th>\n",
       "      <th>creditcard</th>\n",
       "      <th>station</th>\n",
       "      <th>maxbikeoverflow</th>\n",
       "      <th>kioskstate</th>\n",
       "      <th>nbfreedock</th>\n",
       "      <th>...</th>\n",
       "      <th>overflow</th>\n",
       "      <th>nbdock</th>\n",
       "      <th>nbebike</th>\n",
       "      <th>nbebikeoverflow</th>\n",
       "      <th>station_code</th>\n",
       "      <th>station_name</th>\n",
       "      <th>station_state</th>\n",
       "      <th>station_type</th>\n",
       "      <th>geo</th>\n",
       "      <th>duedate</th>\n",
       "    </tr>\n",
       "  </thead>\n",
       "  <tbody>\n",
       "    <tr>\n",
       "      <th>920</th>\n",
       "      <td>21</td>\n",
       "      <td>0</td>\n",
       "      <td>39</td>\n",
       "      <td>no</td>\n",
       "      <td>0</td>\n",
       "      <td>no</td>\n",
       "      <td>{\"code\": \"44101\", \"name\": \"Place Mongolfier\", ...</td>\n",
       "      <td>0</td>\n",
       "      <td>yes</td>\n",
       "      <td>0</td>\n",
       "      <td>...</td>\n",
       "      <td>no</td>\n",
       "      <td>0</td>\n",
       "      <td>7</td>\n",
       "      <td>0</td>\n",
       "      <td>44101</td>\n",
       "      <td>Place Mongolfier</td>\n",
       "      <td>Operative</td>\n",
       "      <td>yes</td>\n",
       "      <td>48.8151600301, 2.45928794146</td>\n",
       "      <td>2018-10-30</td>\n",
       "    </tr>\n",
       "  </tbody>\n",
       "</table>\n",
       "<p>1 rows × 21 columns</p>\n",
       "</div>"
      ],
      "text/plain": [
       "     nbfreeedock  nbbikeoverflow  nbedock overflowactivation  densitylevel  \\\n",
       "920           21               0       39                 no             0   \n",
       "\n",
       "    creditcard                                            station  \\\n",
       "920         no  {\"code\": \"44101\", \"name\": \"Place Mongolfier\", ...   \n",
       "\n",
       "     maxbikeoverflow kioskstate  nbfreedock  ...  overflow nbdock  nbebike  \\\n",
       "920                0        yes           0  ...        no      0        7   \n",
       "\n",
       "     nbebikeoverflow  station_code      station_name station_state  \\\n",
       "920                0         44101  Place Mongolfier     Operative   \n",
       "\n",
       "    station_type                           geo     duedate  \n",
       "920          yes  48.8151600301, 2.45928794146  2018-10-30  \n",
       "\n",
       "[1 rows x 21 columns]"
      ]
     },
     "execution_count": 30,
     "metadata": {},
     "output_type": "execute_result"
    }
   ],
   "source": [
    "stations[stations['station_name'].str.contains(\"Mongolfier\")]"
   ]
  },
  {
   "cell_type": "code",
   "execution_count": 31,
   "metadata": {},
   "outputs": [
    {
     "data": {
      "text/html": [
       "<div>\n",
       "<style scoped>\n",
       "    .dataframe tbody tr th:only-of-type {\n",
       "        vertical-align: middle;\n",
       "    }\n",
       "\n",
       "    .dataframe tbody tr th {\n",
       "        vertical-align: top;\n",
       "    }\n",
       "\n",
       "    .dataframe thead th {\n",
       "        text-align: right;\n",
       "    }\n",
       "</style>\n",
       "<table border=\"1\" class=\"dataframe\">\n",
       "  <thead>\n",
       "    <tr style=\"text-align: right;\">\n",
       "      <th></th>\n",
       "      <th>nbfreeedock</th>\n",
       "      <th>nbbikeoverflow</th>\n",
       "      <th>nbedock</th>\n",
       "      <th>densitylevel</th>\n",
       "      <th>maxbikeoverflow</th>\n",
       "      <th>nbfreedock</th>\n",
       "      <th>nbbike</th>\n",
       "      <th>nbdock</th>\n",
       "      <th>nbebike</th>\n",
       "      <th>nbebikeoverflow</th>\n",
       "      <th>station_code</th>\n",
       "    </tr>\n",
       "  </thead>\n",
       "  <tbody>\n",
       "    <tr>\n",
       "      <th>count</th>\n",
       "      <td>1390.000000</td>\n",
       "      <td>1390.000000</td>\n",
       "      <td>1390.000000</td>\n",
       "      <td>1390.000000</td>\n",
       "      <td>1390.000000</td>\n",
       "      <td>1390.000000</td>\n",
       "      <td>1390.000000</td>\n",
       "      <td>1390.000000</td>\n",
       "      <td>1390.000000</td>\n",
       "      <td>1390.000000</td>\n",
       "      <td>1390.000000</td>\n",
       "    </tr>\n",
       "    <tr>\n",
       "      <th>mean</th>\n",
       "      <td>16.549640</td>\n",
       "      <td>0.090647</td>\n",
       "      <td>25.396403</td>\n",
       "      <td>0.902878</td>\n",
       "      <td>16.276259</td>\n",
       "      <td>3.750360</td>\n",
       "      <td>5.446763</td>\n",
       "      <td>5.607914</td>\n",
       "      <td>4.842446</td>\n",
       "      <td>0.012230</td>\n",
       "      <td>18038.243165</td>\n",
       "    </tr>\n",
       "    <tr>\n",
       "      <th>std</th>\n",
       "      <td>12.935741</td>\n",
       "      <td>0.403885</td>\n",
       "      <td>16.005817</td>\n",
       "      <td>0.296231</td>\n",
       "      <td>18.383756</td>\n",
       "      <td>9.347941</td>\n",
       "      <td>5.695764</td>\n",
       "      <td>12.949793</td>\n",
       "      <td>3.904041</td>\n",
       "      <td>0.128098</td>\n",
       "      <td>12068.090148</td>\n",
       "    </tr>\n",
       "    <tr>\n",
       "      <th>min</th>\n",
       "      <td>0.000000</td>\n",
       "      <td>0.000000</td>\n",
       "      <td>0.000000</td>\n",
       "      <td>0.000000</td>\n",
       "      <td>0.000000</td>\n",
       "      <td>0.000000</td>\n",
       "      <td>0.000000</td>\n",
       "      <td>0.000000</td>\n",
       "      <td>0.000000</td>\n",
       "      <td>0.000000</td>\n",
       "      <td>1001.000000</td>\n",
       "    </tr>\n",
       "    <tr>\n",
       "      <th>25%</th>\n",
       "      <td>6.000000</td>\n",
       "      <td>0.000000</td>\n",
       "      <td>18.000000</td>\n",
       "      <td>1.000000</td>\n",
       "      <td>0.000000</td>\n",
       "      <td>0.000000</td>\n",
       "      <td>1.000000</td>\n",
       "      <td>0.000000</td>\n",
       "      <td>2.000000</td>\n",
       "      <td>0.000000</td>\n",
       "      <td>11003.250000</td>\n",
       "    </tr>\n",
       "    <tr>\n",
       "      <th>50%</th>\n",
       "      <td>16.000000</td>\n",
       "      <td>0.000000</td>\n",
       "      <td>25.000000</td>\n",
       "      <td>1.000000</td>\n",
       "      <td>11.000000</td>\n",
       "      <td>0.000000</td>\n",
       "      <td>4.000000</td>\n",
       "      <td>0.000000</td>\n",
       "      <td>4.000000</td>\n",
       "      <td>0.000000</td>\n",
       "      <td>16010.500000</td>\n",
       "    </tr>\n",
       "    <tr>\n",
       "      <th>75%</th>\n",
       "      <td>24.000000</td>\n",
       "      <td>0.000000</td>\n",
       "      <td>35.000000</td>\n",
       "      <td>1.000000</td>\n",
       "      <td>30.000000</td>\n",
       "      <td>1.000000</td>\n",
       "      <td>8.000000</td>\n",
       "      <td>1.000000</td>\n",
       "      <td>7.000000</td>\n",
       "      <td>0.000000</td>\n",
       "      <td>21118.750000</td>\n",
       "    </tr>\n",
       "    <tr>\n",
       "      <th>max</th>\n",
       "      <td>69.000000</td>\n",
       "      <td>11.000000</td>\n",
       "      <td>73.000000</td>\n",
       "      <td>1.000000</td>\n",
       "      <td>71.000000</td>\n",
       "      <td>57.000000</td>\n",
       "      <td>44.000000</td>\n",
       "      <td>70.000000</td>\n",
       "      <td>27.000000</td>\n",
       "      <td>2.000000</td>\n",
       "      <td>92008.000000</td>\n",
       "    </tr>\n",
       "  </tbody>\n",
       "</table>\n",
       "</div>"
      ],
      "text/plain": [
       "       nbfreeedock  nbbikeoverflow      nbedock  densitylevel  \\\n",
       "count  1390.000000     1390.000000  1390.000000   1390.000000   \n",
       "mean     16.549640        0.090647    25.396403      0.902878   \n",
       "std      12.935741        0.403885    16.005817      0.296231   \n",
       "min       0.000000        0.000000     0.000000      0.000000   \n",
       "25%       6.000000        0.000000    18.000000      1.000000   \n",
       "50%      16.000000        0.000000    25.000000      1.000000   \n",
       "75%      24.000000        0.000000    35.000000      1.000000   \n",
       "max      69.000000       11.000000    73.000000      1.000000   \n",
       "\n",
       "       maxbikeoverflow   nbfreedock       nbbike       nbdock      nbebike  \\\n",
       "count      1390.000000  1390.000000  1390.000000  1390.000000  1390.000000   \n",
       "mean         16.276259     3.750360     5.446763     5.607914     4.842446   \n",
       "std          18.383756     9.347941     5.695764    12.949793     3.904041   \n",
       "min           0.000000     0.000000     0.000000     0.000000     0.000000   \n",
       "25%           0.000000     0.000000     1.000000     0.000000     2.000000   \n",
       "50%          11.000000     0.000000     4.000000     0.000000     4.000000   \n",
       "75%          30.000000     1.000000     8.000000     1.000000     7.000000   \n",
       "max          71.000000    57.000000    44.000000    70.000000    27.000000   \n",
       "\n",
       "       nbebikeoverflow  station_code  \n",
       "count      1390.000000   1390.000000  \n",
       "mean          0.012230  18038.243165  \n",
       "std           0.128098  12068.090148  \n",
       "min           0.000000   1001.000000  \n",
       "25%           0.000000  11003.250000  \n",
       "50%           0.000000  16010.500000  \n",
       "75%           0.000000  21118.750000  \n",
       "max           2.000000  92008.000000  "
      ]
     },
     "execution_count": 31,
     "metadata": {},
     "output_type": "execute_result"
    }
   ],
   "source": [
    "stations.describe()"
   ]
  },
  {
   "cell_type": "code",
   "execution_count": 32,
   "metadata": {},
   "outputs": [
    {
     "data": {
      "text/html": [
       "<div>\n",
       "<style scoped>\n",
       "    .dataframe tbody tr th:only-of-type {\n",
       "        vertical-align: middle;\n",
       "    }\n",
       "\n",
       "    .dataframe tbody tr th {\n",
       "        vertical-align: top;\n",
       "    }\n",
       "\n",
       "    .dataframe thead th {\n",
       "        text-align: right;\n",
       "    }\n",
       "</style>\n",
       "<table border=\"1\" class=\"dataframe\">\n",
       "  <thead>\n",
       "    <tr style=\"text-align: right;\">\n",
       "      <th></th>\n",
       "      <th>nbfreeedock</th>\n",
       "      <th>nbbikeoverflow</th>\n",
       "      <th>nbedock</th>\n",
       "      <th>overflowactivation</th>\n",
       "      <th>densitylevel</th>\n",
       "      <th>creditcard</th>\n",
       "      <th>station</th>\n",
       "      <th>maxbikeoverflow</th>\n",
       "      <th>kioskstate</th>\n",
       "      <th>nbfreedock</th>\n",
       "      <th>...</th>\n",
       "      <th>overflow</th>\n",
       "      <th>nbdock</th>\n",
       "      <th>nbebike</th>\n",
       "      <th>nbebikeoverflow</th>\n",
       "      <th>station_code</th>\n",
       "      <th>station_name</th>\n",
       "      <th>station_state</th>\n",
       "      <th>station_type</th>\n",
       "      <th>geo</th>\n",
       "      <th>duedate</th>\n",
       "    </tr>\n",
       "  </thead>\n",
       "  <tbody>\n",
       "    <tr>\n",
       "      <th>722</th>\n",
       "      <td>20</td>\n",
       "      <td>0</td>\n",
       "      <td>51</td>\n",
       "      <td>no</td>\n",
       "      <td>1</td>\n",
       "      <td>no</td>\n",
       "      <td>{\"code\": \"11110\", \"name\": \"Roquette - Folie Re...</td>\n",
       "      <td>53</td>\n",
       "      <td>yes</td>\n",
       "      <td>0</td>\n",
       "      <td>...</td>\n",
       "      <td>no</td>\n",
       "      <td>1</td>\n",
       "      <td>27</td>\n",
       "      <td>0</td>\n",
       "      <td>11110</td>\n",
       "      <td>Roquette - Folie Regnault</td>\n",
       "      <td>Operative</td>\n",
       "      <td>yes</td>\n",
       "      <td>48.8592469592, 2.38655362358</td>\n",
       "      <td>2018-10-25</td>\n",
       "    </tr>\n",
       "  </tbody>\n",
       "</table>\n",
       "<p>1 rows × 21 columns</p>\n",
       "</div>"
      ],
      "text/plain": [
       "     nbfreeedock  nbbikeoverflow  nbedock overflowactivation  densitylevel  \\\n",
       "722           20               0       51                 no             1   \n",
       "\n",
       "    creditcard                                            station  \\\n",
       "722         no  {\"code\": \"11110\", \"name\": \"Roquette - Folie Re...   \n",
       "\n",
       "     maxbikeoverflow kioskstate  nbfreedock  ...  overflow nbdock  nbebike  \\\n",
       "722               53        yes           0  ...        no      1       27   \n",
       "\n",
       "     nbebikeoverflow  station_code               station_name station_state  \\\n",
       "722                0         11110  Roquette - Folie Regnault     Operative   \n",
       "\n",
       "    station_type                           geo     duedate  \n",
       "722          yes  48.8592469592, 2.38655362358  2018-10-25  \n",
       "\n",
       "[1 rows x 21 columns]"
      ]
     },
     "execution_count": 32,
     "metadata": {},
     "output_type": "execute_result"
    }
   ],
   "source": [
    "stations[stations['nbebike'] == stations.describe()['nbebike']['max']]"
   ]
  },
  {
   "cell_type": "code",
   "execution_count": 33,
   "metadata": {},
   "outputs": [
    {
     "data": {
      "text/plain": [
       "nbfreeedock             int64\n",
       "nbbikeoverflow          int64\n",
       "nbedock                 int64\n",
       "overflowactivation     object\n",
       "densitylevel            int64\n",
       "                       ...   \n",
       "station_type           object\n",
       "geo                    object\n",
       "duedate                object\n",
       "lat                   float64\n",
       "lng                   float64\n",
       "Length: 23, dtype: object"
      ]
     },
     "execution_count": 33,
     "metadata": {},
     "output_type": "execute_result"
    }
   ],
   "source": [
    "stations[['lat','lng']] = stations['geo'].str.split(',',expand=True)\n",
    "stations[['lat','lng', 'nbfreeedock']]\n",
    "stations = stations.astype({'lng': 'float64', 'lat': 'float64'})\n",
    "stations.dtypes"
   ]
  },
  {
   "cell_type": "code",
   "execution_count": 34,
   "metadata": {
    "scrolled": true
   },
   "outputs": [
    {
     "data": {
      "text/plain": [
       "Index(['nbfreeedock', 'nbbikeoverflow', 'nbedock', 'overflowactivation',\n",
       "       'densitylevel', 'creditcard', 'station', 'maxbikeoverflow',\n",
       "       'kioskstate', 'nbfreedock', 'nbbike', 'overflow', 'nbdock', 'nbebike',\n",
       "       'nbebikeoverflow', 'station_code', 'station_name', 'station_state',\n",
       "       'station_type', 'geo', 'duedate', 'lat', 'lng'],\n",
       "      dtype='object')"
      ]
     },
     "execution_count": 34,
     "metadata": {},
     "output_type": "execute_result"
    }
   ],
   "source": [
    "stations.columns"
   ]
  },
  {
   "cell_type": "markdown",
   "metadata": {},
   "source": [
    "Configure Google Maps API Key: https://jupyter-gmaps.readthedocs.io/en/latest/authentication.html"
   ]
  },
  {
   "cell_type": "code",
   "execution_count": 35,
   "metadata": {},
   "outputs": [],
   "source": [
    "import os\n",
    "import gmaps\n",
    "import gmaps.datasets\n",
    "gmaps.configure(api_key=os.environ[\"GOOGLE_API_KEY\"])  # Your Google API key\n",
    "\n",
    "#print(\"Google Api Key:\", os.environ[\"GOOGLE_API_KEY\"])"
   ]
  },
  {
   "cell_type": "code",
   "execution_count": 36,
   "metadata": {},
   "outputs": [],
   "source": [
    "paris_coordinates = (48.8566, 2.3522)\n",
    "\n"
   ]
  },
  {
   "cell_type": "code",
   "execution_count": 37,
   "metadata": {},
   "outputs": [
    {
     "data": {
      "application/vnd.jupyter.widget-view+json": {
       "model_id": "b43ab1db743d48d19d30656207280741",
       "version_major": 2,
       "version_minor": 0
      },
      "text/plain": [
       "Figure(layout=FigureLayout(height='420px'))"
      ]
     },
     "metadata": {},
     "output_type": "display_data"
    }
   ],
   "source": [
    "stations_with_almost_no_ebikes = stations[stations['nbebike'] < 4]\n",
    "\n",
    "fig = gmaps.figure(center=paris_coordinates, zoom_level=13)\n",
    "\n",
    "almost_no_ebikes_heatmap_layer = gmaps.heatmap_layer(stations_with_almost_no_ebikes[['lat', 'lng']])#\n",
    "almost_no_ebikes_heatmap_layer.gradient = [(200, 200, 200, 0.0), 'yellow', 'red']\n",
    "#almost_no_ebikes_heatmap_layer.max_intensity = 1\n",
    "almost_no_ebikes_heatmap_layer.point_radius = 32\n",
    "\n",
    "fig.add_layer(almost_no_ebikes_heatmap_layer)\n",
    "#fig.add_layer(gmaps.bicycling_layer())\n",
    "\n",
    "fig"
   ]
  },
  {
   "cell_type": "code",
   "execution_count": 38,
   "metadata": {},
   "outputs": [
    {
     "data": {
      "application/vnd.jupyter.widget-view+json": {
       "model_id": "94d561a041aa46eaa2567986818f5190",
       "version_major": 2,
       "version_minor": 0
      },
      "text/plain": [
       "Figure(layout=FigureLayout(height='420px'))"
      ]
     },
     "metadata": {},
     "output_type": "display_data"
    }
   ],
   "source": [
    "stations_with_many_ebikes = stations[stations['nbebike'] > 5]\n",
    "\n",
    "fig = gmaps.figure(center=paris_coordinates, zoom_level=13)\n",
    "\n",
    "many_ebikes_heatmap_layer = gmaps.heatmap_layer(stations_with_many_ebikes[['lat', 'lng']])#\n",
    "many_ebikes_heatmap_layer.gradient = [(200, 200, 200, 0.0), 'yellow', 'green']\n",
    "#many_ebikes_heatmap_layer.max_intensity = 2\n",
    "many_ebikes_heatmap_layer.point_radius = 32\n",
    "\n",
    "fig.add_layer(many_ebikes_heatmap_layer)\n",
    "#fig.add_layer(gmaps.bicycling_layer())\n",
    "\n",
    "fig"
   ]
  },
  {
   "cell_type": "code",
   "execution_count": 39,
   "metadata": {},
   "outputs": [
    {
     "data": {
      "application/vnd.jupyter.widget-view+json": {
       "model_id": "edec909fdfd84b0c80027ea4b20fc297",
       "version_major": 2,
       "version_minor": 0
      },
      "text/plain": [
       "Figure(layout=FigureLayout(height='420px'))"
      ]
     },
     "metadata": {},
     "output_type": "display_data"
    }
   ],
   "source": [
    "\n",
    "fig = gmaps.figure(center=paris_coordinates, zoom_level=13)\n",
    "\n",
    "fig.add_layer(almost_no_ebikes_heatmap_layer)\n",
    "fig.add_layer(many_ebikes_heatmap_layer)\n",
    "#fig.add_layer(gmaps.bicycling_layer())\n",
    "\n",
    "fig"
   ]
  },
  {
   "cell_type": "code",
   "execution_count": 40,
   "metadata": {},
   "outputs": [
    {
     "data": {
      "application/vnd.jupyter.widget-view+json": {
       "model_id": "de84aaa0292146e696bec417ecd9fea5",
       "version_major": 2,
       "version_minor": 0
      },
      "text/plain": [
       "Figure(layout=FigureLayout(height='420px'))"
      ]
     },
     "metadata": {},
     "output_type": "display_data"
    }
   ],
   "source": [
    "paris_coordinates = (48.8566, 2.3522)\n",
    "\n",
    "fig = gmaps.figure(center=paris_coordinates, zoom_level=13)\n",
    "heatmap_layer = gmaps.heatmap_layer(stations[['lat', 'lng']], weights=stations['nbebike'])\n",
    "heatmap_layer.gradient = [(200, 200, 200, 0.0), 'yellow', 'green']\n",
    "heatmap_layer.point_radius = 32\n",
    "\n",
    "fig.add_layer(heatmap_layer)\n",
    "fig.add_layer(gmaps.bicycling_layer())\n",
    "\n",
    "fig"
   ]
  },
  {
   "cell_type": "code",
   "execution_count": 41,
   "metadata": {},
   "outputs": [
    {
     "name": "stdout",
     "output_type": "stream",
     "text": [
      "['rgba(200,200,200,0.0)', 'yellow', 'green']\n"
     ]
    },
    {
     "data": {
      "application/vnd.jupyter.widget-view+json": {
       "model_id": "3e5060ae504f46a8bbb5cad76ede375c",
       "version_major": 2,
       "version_minor": 0
      },
      "text/plain": [
       "Figure(layout=FigureLayout(height='420px'))"
      ]
     },
     "metadata": {},
     "output_type": "display_data"
    }
   ],
   "source": [
    "fig = gmaps.figure(center=paris_coordinates, zoom_level=13)\n",
    "heatmap_layer = gmaps.heatmap_layer(stations[['lat', 'lng']], weights=stations['nbfreeedock'])\n",
    "heatmap_layer.gradient = [(200, 200, 200, 0.0), 'yellow', 'green']\n",
    "heatmap_layer.point_radius = 32\n",
    "\n",
    "print(heatmap_layer.gradient)\n",
    "fig.add_layer(heatmap_layer)\n",
    "fig.add_layer(gmaps.bicycling_layer())\n",
    "\n",
    "fig"
   ]
  },
  {
   "cell_type": "code",
   "execution_count": 42,
   "metadata": {},
   "outputs": [],
   "source": [
    "no_ebike = stations[stations['nbebike'] == 0]\n",
    "almost_no_ebike = stations[(stations['nbebike'] > 0) & (stations['nbebike'] < 4)]\n",
    "ebikes = stations[stations['nbebike'] > 3]"
   ]
  },
  {
   "cell_type": "code",
   "execution_count": 43,
   "metadata": {},
   "outputs": [
    {
     "data": {
      "application/vnd.jupyter.widget-view+json": {
       "model_id": "35aa9cb4082b4d2b850a94dae589682a",
       "version_major": 2,
       "version_minor": 0
      },
      "text/plain": [
       "Figure(layout=FigureLayout(height='420px'))"
      ]
     },
     "metadata": {},
     "output_type": "display_data"
    }
   ],
   "source": [
    "scale = 3\n",
    "\n",
    "no_ebike_layer = gmaps.symbol_layer(\n",
    "    no_ebike[['lat', 'lng']], fill_color='red',\n",
    "    stroke_color='red', scale=scale\n",
    ")\n",
    "\n",
    "almost_no_ebike_layer = gmaps.symbol_layer(\n",
    "    almost_no_ebike[['lat', 'lng']], fill_color='yellow',\n",
    "    stroke_color='yellow', scale=scale\n",
    ")\n",
    "\n",
    "ebikes_layer = gmaps.symbol_layer(\n",
    "    ebikes[['lat', 'lng']], fill_color='green',\n",
    "    stroke_color='green', scale=scale\n",
    ")\n",
    "\n",
    "info_box_template = \"\"\"\n",
    "<dl>\n",
    "<dt>Name</dt><dd>{station_name}</dd>\n",
    "<dt>Nb ebikes</dt><dd>{nbebike}</dd>\n",
    "<dt>Nb free docks</dt><dd>{nbfreeedock}</dd>\n",
    "</dl>\n",
    "\"\"\"\n",
    "station_info = [info_box_template.format(**station) for station in stations[['station_name', 'nbebike', 'nbfreeedock']].to_dict('records')]\n",
    "\n",
    "marker_layer = gmaps.marker_layer(stations[['lat', 'lng']], info_box_content=station_info)\n",
    "\n",
    "fig = gmaps.figure(center=paris_coordinates, zoom_level=12)\n",
    "\n",
    "fig.add_layer(no_ebike_layer)\n",
    "fig.add_layer(almost_no_ebike_layer)\n",
    "fig.add_layer(ebikes_layer)\n",
    "#fig.add_layer(marker_layer)\n",
    "\n",
    "fig"
   ]
  },
  {
   "cell_type": "code",
   "execution_count": null,
   "metadata": {},
   "outputs": [],
   "source": []
  }
 ],
 "metadata": {
  "kernelspec": {
   "display_name": "Python 3",
   "language": "python",
   "name": "python3"
  },
  "language_info": {
   "codemirror_mode": {
    "name": "ipython",
    "version": 3
   },
   "file_extension": ".py",
   "mimetype": "text/x-python",
   "name": "python",
   "nbconvert_exporter": "python",
   "pygments_lexer": "ipython3",
   "version": "3.6.8"
  }
 },
 "nbformat": 4,
 "nbformat_minor": 4
}
