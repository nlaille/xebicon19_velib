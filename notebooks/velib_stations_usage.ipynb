{
 "cells": [
  {
   "cell_type": "markdown",
   "metadata": {},
   "source": [
    "# Xebicon '19\n",
    "\n",
    "Disponibilité des Velib dans la ville de Paris.\n",
    "\n",
    "Basé surl'OpenData de la ville Paris : https://opendata.paris.fr/pages/home/\n",
    "\n",
    "En utilisant le dataset Velib datasets : https://opendata.paris.fr/explore/dataset/velib-disponibilite-en-temps-reel/information/"
   ]
  },
  {
   "cell_type": "code",
   "execution_count": null,
   "metadata": {
    "collapsed": true,
    "jupyter": {
     "outputs_hidden": true
    }
   },
   "outputs": [
    {
     "name": "stdout",
     "output_type": "stream",
     "text": [
      "Collecting pandas (from -r ../requirements.txt (line 1))\n",
      "  Using cached https://files.pythonhosted.org/packages/86/12/08b092f6fc9e4c2552e37add0861d0e0e0d743f78f1318973caad970b3fc/pandas-0.25.2-cp36-cp36m-manylinux1_x86_64.whl\n",
      "Collecting numpy (from -r ../requirements.txt (line 2))\n",
      "  Using cached https://files.pythonhosted.org/packages/0e/46/ae6773894f7eacf53308086287897ec568eac9768918d913d5b9d366c5db/numpy-1.17.3-cp36-cp36m-manylinux1_x86_64.whl\n",
      "Collecting gmaps (from -r ../requirements.txt (line 3))\n",
      "Collecting python-dateutil>=2.6.1 (from pandas->-r ../requirements.txt (line 1))\n",
      "  Using cached https://files.pythonhosted.org/packages/41/17/c62faccbfbd163c7f57f3844689e3a78bae1f403648a6afb1d0866d87fbb/python_dateutil-2.8.0-py2.py3-none-any.whl\n",
      "Collecting pytz>=2017.2 (from pandas->-r ../requirements.txt (line 1))\n",
      "  Using cached https://files.pythonhosted.org/packages/e7/f9/f0b53f88060247251bf481fa6ea62cd0d25bf1b11a87888e53ce5b7c8ad2/pytz-2019.3-py2.py3-none-any.whl\n",
      "Collecting ipython>=5.3.0 (from gmaps->-r ../requirements.txt (line 3))\n",
      "  Using cached https://files.pythonhosted.org/packages/81/2e/59cdacea6476a4c21b7c090a91250ffbcd085900f5eb9f4e4d68dd2ee4e3/ipython-7.9.0-py3-none-any.whl\n",
      "Collecting ipywidgets>=7.0.0 (from gmaps->-r ../requirements.txt (line 3))\n",
      "  Using cached https://files.pythonhosted.org/packages/56/a0/dbcf5881bb2f51e8db678211907f16ea0a182b232c591a6d6f276985ca95/ipywidgets-7.5.1-py2.py3-none-any.whl\n",
      "Collecting geojson>=2.0.0 (from gmaps->-r ../requirements.txt (line 3))\n",
      "  Using cached https://files.pythonhosted.org/packages/e4/8d/9e28e9af95739e6d2d2f8d4bef0b3432da40b7c3588fbad4298c1be09e48/geojson-2.5.0-py2.py3-none-any.whl\n",
      "Collecting traitlets>=4.3.0 (from gmaps->-r ../requirements.txt (line 3))\n",
      "  Using cached https://files.pythonhosted.org/packages/ca/ab/872a23e29cec3cf2594af7e857f18b687ad21039c1f9b922fac5b9b142d5/traitlets-4.3.3-py2.py3-none-any.whl\n",
      "Collecting six (from gmaps->-r ../requirements.txt (line 3))\n",
      "  Using cached https://files.pythonhosted.org/packages/73/fb/00a976f728d0d1fecfe898238ce23f502a721c0ac0ecfedb80e0d88c64e9/six-1.12.0-py2.py3-none-any.whl\n",
      "Collecting prompt-toolkit<2.1.0,>=2.0.0 (from ipython>=5.3.0->gmaps->-r ../requirements.txt (line 3))\n",
      "  Using cached https://files.pythonhosted.org/packages/87/61/2dfea88583d5454e3a64f9308a686071d58d59a55db638268a6413e1eb6d/prompt_toolkit-2.0.10-py3-none-any.whl\n",
      "Collecting jedi>=0.10 (from ipython>=5.3.0->gmaps->-r ../requirements.txt (line 3))\n",
      "  Using cached https://files.pythonhosted.org/packages/55/54/da994f359e4e7da4776a200e76dbc85ba5fc319eefc22e33d55296d95a1d/jedi-0.15.1-py2.py3-none-any.whl\n",
      "Collecting decorator (from ipython>=5.3.0->gmaps->-r ../requirements.txt (line 3))\n",
      "  Using cached https://files.pythonhosted.org/packages/8f/b7/f329cfdc75f3d28d12c65980e4469e2fa373f1953f5df6e370e84ea2e875/decorator-4.4.1-py2.py3-none-any.whl\n",
      "Collecting pygments (from ipython>=5.3.0->gmaps->-r ../requirements.txt (line 3))\n",
      "  Using cached https://files.pythonhosted.org/packages/5c/73/1dfa428150e3ccb0fa3e68db406e5be48698f2a979ccbcec795f28f44048/Pygments-2.4.2-py2.py3-none-any.whl\n",
      "Collecting pickleshare (from ipython>=5.3.0->gmaps->-r ../requirements.txt (line 3))\n",
      "  Using cached https://files.pythonhosted.org/packages/9a/41/220f49aaea88bc6fa6cba8d05ecf24676326156c23b991e80b3f2fc24c77/pickleshare-0.7.5-py2.py3-none-any.whl\n",
      "Collecting pexpect; sys_platform != \"win32\" (from ipython>=5.3.0->gmaps->-r ../requirements.txt (line 3))\n",
      "  Using cached https://files.pythonhosted.org/packages/0e/3e/377007e3f36ec42f1b84ec322ee12141a9e10d808312e5738f52f80a232c/pexpect-4.7.0-py2.py3-none-any.whl\n",
      "Collecting setuptools>=18.5 (from ipython>=5.3.0->gmaps->-r ../requirements.txt (line 3))\n",
      "  Using cached https://files.pythonhosted.org/packages/6a/9a/50fadfd53ec909e4399b67c74cc7f4e883488035cfcdb90b685758fa8b34/setuptools-41.4.0-py2.py3-none-any.whl\n",
      "Collecting backcall (from ipython>=5.3.0->gmaps->-r ../requirements.txt (line 3))\n",
      "Collecting ipykernel>=4.5.1 (from ipywidgets>=7.0.0->gmaps->-r ../requirements.txt (line 3))\n",
      "  Using cached https://files.pythonhosted.org/packages/e1/92/8fec943b5b81078399f969f00557804d884c96fcd0bc296e81a2ed4fd270/ipykernel-5.1.3-py3-none-any.whl\n",
      "Collecting nbformat>=4.2.0 (from ipywidgets>=7.0.0->gmaps->-r ../requirements.txt (line 3))\n",
      "  Using cached https://files.pythonhosted.org/packages/da/27/9a654d2b6cc1eaa517d1c5a4405166c7f6d72f04f6e7eea41855fe808a46/nbformat-4.4.0-py2.py3-none-any.whl\n",
      "Collecting widgetsnbextension~=3.5.0 (from ipywidgets>=7.0.0->gmaps->-r ../requirements.txt (line 3))\n",
      "  Using cached https://files.pythonhosted.org/packages/6c/7b/7ac231c20d2d33c445eaacf8a433f4e22c60677eb9776c7c5262d7ddee2d/widgetsnbextension-3.5.1-py2.py3-none-any.whl\n",
      "Collecting ipython-genutils (from traitlets>=4.3.0->gmaps->-r ../requirements.txt (line 3))\n",
      "  Using cached https://files.pythonhosted.org/packages/fa/bc/9bd3b5c2b4774d5f33b2d544f1460be9df7df2fe42f352135381c347c69a/ipython_genutils-0.2.0-py2.py3-none-any.whl\n",
      "Collecting wcwidth (from prompt-toolkit<2.1.0,>=2.0.0->ipython>=5.3.0->gmaps->-r ../requirements.txt (line 3))\n",
      "  Using cached https://files.pythonhosted.org/packages/7e/9f/526a6947247599b084ee5232e4f9190a38f398d7300d866af3ab571a5bfe/wcwidth-0.1.7-py2.py3-none-any.whl\n",
      "Collecting parso>=0.5.0 (from jedi>=0.10->ipython>=5.3.0->gmaps->-r ../requirements.txt (line 3))\n",
      "  Using cached https://files.pythonhosted.org/packages/a3/bd/bf4e5bd01d79906e5b945a7af033154da49fd2b0d5b5c705a21330323305/parso-0.5.1-py2.py3-none-any.whl\n",
      "Collecting ptyprocess>=0.5 (from pexpect; sys_platform != \"win32\"->ipython>=5.3.0->gmaps->-r ../requirements.txt (line 3))\n",
      "  Using cached https://files.pythonhosted.org/packages/d1/29/605c2cc68a9992d18dada28206eeada56ea4bd07a239669da41674648b6f/ptyprocess-0.6.0-py2.py3-none-any.whl\n",
      "Collecting tornado>=4.2 (from ipykernel>=4.5.1->ipywidgets>=7.0.0->gmaps->-r ../requirements.txt (line 3))\n",
      "Collecting jupyter-client (from ipykernel>=4.5.1->ipywidgets>=7.0.0->gmaps->-r ../requirements.txt (line 3))\n",
      "  Using cached https://files.pythonhosted.org/packages/13/81/fe0eee1bcf949851a120254b1f530ae1e01bdde2d3ab9710c6ff81525061/jupyter_client-5.3.4-py2.py3-none-any.whl\n",
      "Collecting jsonschema!=2.5.0,>=2.4 (from nbformat>=4.2.0->ipywidgets>=7.0.0->gmaps->-r ../requirements.txt (line 3))\n",
      "  Using cached https://files.pythonhosted.org/packages/ce/6c/888d7c3c1fce3974c88a01a6bc553528c99d3586e098eee23e8383dd11c3/jsonschema-3.1.1-py2.py3-none-any.whl\n",
      "Collecting jupyter-core (from nbformat>=4.2.0->ipywidgets>=7.0.0->gmaps->-r ../requirements.txt (line 3))\n",
      "  Using cached https://files.pythonhosted.org/packages/fb/82/86437f661875e30682e99d04c13ba6c216f86f5f6ca6ef212d3ee8b6ca11/jupyter_core-4.6.1-py2.py3-none-any.whl\n",
      "Collecting notebook>=4.4.1 (from widgetsnbextension~=3.5.0->ipywidgets>=7.0.0->gmaps->-r ../requirements.txt (line 3))\n",
      "  Using cached https://files.pythonhosted.org/packages/f3/a1/1e07cedcb554408fefe4a7d32b2a041c86517167aec6ca8251c808ef6c1e/notebook-6.0.1-py3-none-any.whl\n",
      "Collecting pyzmq>=13 (from jupyter-client->ipykernel>=4.5.1->ipywidgets>=7.0.0->gmaps->-r ../requirements.txt (line 3))\n",
      "  Using cached https://files.pythonhosted.org/packages/75/89/6f0ea51ffa9c2c00c0ab0460f137b16a5ab5b47e3b060c5b1fc9ca425836/pyzmq-18.1.0-cp36-cp36m-manylinux1_x86_64.whl\n",
      "Collecting importlib-metadata (from jsonschema!=2.5.0,>=2.4->nbformat>=4.2.0->ipywidgets>=7.0.0->gmaps->-r ../requirements.txt (line 3))\n",
      "  Using cached https://files.pythonhosted.org/packages/f6/d2/40b3fa882147719744e6aa50ac39cf7a22a913cbcba86a0371176c425a3b/importlib_metadata-0.23-py2.py3-none-any.whl\n",
      "Collecting pyrsistent>=0.14.0 (from jsonschema!=2.5.0,>=2.4->nbformat>=4.2.0->ipywidgets>=7.0.0->gmaps->-r ../requirements.txt (line 3))\n",
      "Collecting attrs>=17.4.0 (from jsonschema!=2.5.0,>=2.4->nbformat>=4.2.0->ipywidgets>=7.0.0->gmaps->-r ../requirements.txt (line 3))\n",
      "  Using cached https://files.pythonhosted.org/packages/a2/db/4313ab3be961f7a763066401fb77f7748373b6094076ae2bda2806988af6/attrs-19.3.0-py2.py3-none-any.whl\n",
      "Collecting jinja2 (from notebook>=4.4.1->widgetsnbextension~=3.5.0->ipywidgets>=7.0.0->gmaps->-r ../requirements.txt (line 3))\n",
      "  Using cached https://files.pythonhosted.org/packages/65/e0/eb35e762802015cab1ccee04e8a277b03f1d8e53da3ec3106882ec42558b/Jinja2-2.10.3-py2.py3-none-any.whl\n",
      "Collecting prometheus-client (from notebook>=4.4.1->widgetsnbextension~=3.5.0->ipywidgets>=7.0.0->gmaps->-r ../requirements.txt (line 3))\n",
      "Collecting nbconvert (from notebook>=4.4.1->widgetsnbextension~=3.5.0->ipywidgets>=7.0.0->gmaps->-r ../requirements.txt (line 3))\n",
      "  Using cached https://files.pythonhosted.org/packages/79/6c/05a569e9f703d18aacb89b7ad6075b404e8a4afde2c26b73ca77bb644b14/nbconvert-5.6.1-py2.py3-none-any.whl\n",
      "Collecting Send2Trash (from notebook>=4.4.1->widgetsnbextension~=3.5.0->ipywidgets>=7.0.0->gmaps->-r ../requirements.txt (line 3))\n",
      "  Using cached https://files.pythonhosted.org/packages/49/46/c3dc27481d1cc57b9385aff41c474ceb7714f7935b1247194adae45db714/Send2Trash-1.5.0-py3-none-any.whl\n",
      "Collecting terminado>=0.8.1 (from notebook>=4.4.1->widgetsnbextension~=3.5.0->ipywidgets>=7.0.0->gmaps->-r ../requirements.txt (line 3))\n",
      "  Using cached https://files.pythonhosted.org/packages/a7/56/80ea7fa66565fa75ae21ce0c16bc90067530e5d15e48854afcc86585a391/terminado-0.8.2-py2.py3-none-any.whl\n",
      "Collecting zipp>=0.5 (from importlib-metadata->jsonschema!=2.5.0,>=2.4->nbformat>=4.2.0->ipywidgets>=7.0.0->gmaps->-r ../requirements.txt (line 3))\n",
      "  Using cached https://files.pythonhosted.org/packages/74/3d/1ee25a26411ba0401b43c6376d2316a71addcc72ef8690b101b4ea56d76a/zipp-0.6.0-py2.py3-none-any.whl\n",
      "Collecting MarkupSafe>=0.23 (from jinja2->notebook>=4.4.1->widgetsnbextension~=3.5.0->ipywidgets>=7.0.0->gmaps->-r ../requirements.txt (line 3))\n",
      "  Using cached https://files.pythonhosted.org/packages/b2/5f/23e0023be6bb885d00ffbefad2942bc51a620328ee910f64abe5a8d18dd1/MarkupSafe-1.1.1-cp36-cp36m-manylinux1_x86_64.whl\n",
      "Collecting pandocfilters>=1.4.1 (from nbconvert->notebook>=4.4.1->widgetsnbextension~=3.5.0->ipywidgets>=7.0.0->gmaps->-r ../requirements.txt (line 3))\n",
      "Collecting entrypoints>=0.2.2 (from nbconvert->notebook>=4.4.1->widgetsnbextension~=3.5.0->ipywidgets>=7.0.0->gmaps->-r ../requirements.txt (line 3))\n",
      "  Using cached https://files.pythonhosted.org/packages/ac/c6/44694103f8c221443ee6b0041f69e2740d89a25641e62fb4f2ee568f2f9c/entrypoints-0.3-py2.py3-none-any.whl\n",
      "Collecting bleach (from nbconvert->notebook>=4.4.1->widgetsnbextension~=3.5.0->ipywidgets>=7.0.0->gmaps->-r ../requirements.txt (line 3))\n",
      "  Using cached https://files.pythonhosted.org/packages/ab/05/27e1466475e816d3001efb6e0a85a819be17411420494a1e602c36f8299d/bleach-3.1.0-py2.py3-none-any.whl\n",
      "Collecting mistune<2,>=0.8.1 (from nbconvert->notebook>=4.4.1->widgetsnbextension~=3.5.0->ipywidgets>=7.0.0->gmaps->-r ../requirements.txt (line 3))\n",
      "  Using cached https://files.pythonhosted.org/packages/09/ec/4b43dae793655b7d8a25f76119624350b4d65eb663459eb9603d7f1f0345/mistune-0.8.4-py2.py3-none-any.whl\n",
      "Collecting defusedxml (from nbconvert->notebook>=4.4.1->widgetsnbextension~=3.5.0->ipywidgets>=7.0.0->gmaps->-r ../requirements.txt (line 3))\n",
      "  Using cached https://files.pythonhosted.org/packages/06/74/9b387472866358ebc08732de3da6dc48e44b0aacd2ddaa5cb85ab7e986a2/defusedxml-0.6.0-py2.py3-none-any.whl\n",
      "Collecting testpath (from nbconvert->notebook>=4.4.1->widgetsnbextension~=3.5.0->ipywidgets>=7.0.0->gmaps->-r ../requirements.txt (line 3))\n",
      "  Using cached https://files.pythonhosted.org/packages/be/a4/162f9ebb6489421fe46dcca2ae420369edfee4b563c668d93cb4605d12ba/testpath-0.4.2-py2.py3-none-any.whl\n",
      "Collecting more-itertools (from zipp>=0.5->importlib-metadata->jsonschema!=2.5.0,>=2.4->nbformat>=4.2.0->ipywidgets>=7.0.0->gmaps->-r ../requirements.txt (line 3))\n",
      "  Using cached https://files.pythonhosted.org/packages/45/dc/3241eef99eb45f1def35cf93af35d1cf9ef4c0991792583b8f33ea41b092/more_itertools-7.2.0-py3-none-any.whl\n",
      "Collecting webencodings (from bleach->nbconvert->notebook>=4.4.1->widgetsnbextension~=3.5.0->ipywidgets>=7.0.0->gmaps->-r ../requirements.txt (line 3))\n",
      "  Using cached https://files.pythonhosted.org/packages/f4/24/2a3e3df732393fed8b3ebf2ec078f05546de641fe1b667ee316ec1dcf3b7/webencodings-0.5.1-py2.py3-none-any.whl\n",
      "Installing collected packages: numpy, six, python-dateutil, pytz, pandas, wcwidth, prompt-toolkit, parso, jedi, decorator, pygments, pickleshare, ptyprocess, pexpect, setuptools, backcall, ipython-genutils, traitlets, ipython, tornado, jupyter-core, pyzmq, jupyter-client, ipykernel, more-itertools, zipp, importlib-metadata, pyrsistent, attrs, jsonschema, nbformat, MarkupSafe, jinja2, prometheus-client, pandocfilters, entrypoints, webencodings, bleach, mistune, defusedxml, testpath, nbconvert, Send2Trash, terminado, notebook, widgetsnbextension, ipywidgets, geojson, gmaps\n"
     ]
    }
   ],
   "source": [
    "!pip install -r ../requirements.txt"
   ]
  },
  {
   "cell_type": "code",
   "execution_count": 6,
   "metadata": {},
   "outputs": [],
   "source": [
    "import pandas as pd"
   ]
  },
  {
   "cell_type": "code",
   "execution_count": 7,
   "metadata": {},
   "outputs": [],
   "source": [
    "stations = pd.read_csv(\"https://opendata.paris.fr/api/v2/catalog/datasets/velib-disponibilite-en-temps-reel/exports/csv?rows=-1&timezone=UTC&delimiter=%3B\", delimiter=\";\")"
   ]
  },
  {
   "cell_type": "code",
   "execution_count": 70,
   "metadata": {},
   "outputs": [
    {
     "data": {
      "text/html": [
       "<div>\n",
       "<style scoped>\n",
       "    .dataframe tbody tr th:only-of-type {\n",
       "        vertical-align: middle;\n",
       "    }\n",
       "\n",
       "    .dataframe tbody tr th {\n",
       "        vertical-align: top;\n",
       "    }\n",
       "\n",
       "    .dataframe thead th {\n",
       "        text-align: right;\n",
       "    }\n",
       "</style>\n",
       "<table border=\"1\" class=\"dataframe\">\n",
       "  <thead>\n",
       "    <tr style=\"text-align: right;\">\n",
       "      <th></th>\n",
       "      <th>nbfreeedock</th>\n",
       "      <th>nbbikeoverflow</th>\n",
       "      <th>nbedock</th>\n",
       "      <th>overflowactivation</th>\n",
       "      <th>densitylevel</th>\n",
       "      <th>creditcard</th>\n",
       "      <th>station</th>\n",
       "      <th>maxbikeoverflow</th>\n",
       "      <th>kioskstate</th>\n",
       "      <th>nbfreedock</th>\n",
       "      <th>...</th>\n",
       "      <th>nbebike</th>\n",
       "      <th>nbebikeoverflow</th>\n",
       "      <th>station_code</th>\n",
       "      <th>station_name</th>\n",
       "      <th>station_state</th>\n",
       "      <th>station_type</th>\n",
       "      <th>geo</th>\n",
       "      <th>duedate</th>\n",
       "      <th>lat</th>\n",
       "      <th>lng</th>\n",
       "    </tr>\n",
       "  </thead>\n",
       "  <tbody>\n",
       "    <tr>\n",
       "      <th>920</th>\n",
       "      <td>21</td>\n",
       "      <td>0</td>\n",
       "      <td>39</td>\n",
       "      <td>no</td>\n",
       "      <td>0</td>\n",
       "      <td>no</td>\n",
       "      <td>{\"code\": \"44101\", \"name\": \"Place Mongolfier\", ...</td>\n",
       "      <td>0</td>\n",
       "      <td>yes</td>\n",
       "      <td>0</td>\n",
       "      <td>...</td>\n",
       "      <td>6</td>\n",
       "      <td>0</td>\n",
       "      <td>44101</td>\n",
       "      <td>Place Mongolfier</td>\n",
       "      <td>Operative</td>\n",
       "      <td>yes</td>\n",
       "      <td>48.8151600301, 2.45928794146</td>\n",
       "      <td>2018-10-30</td>\n",
       "      <td>48.81516</td>\n",
       "      <td>2.459288</td>\n",
       "    </tr>\n",
       "  </tbody>\n",
       "</table>\n",
       "<p>1 rows × 23 columns</p>\n",
       "</div>"
      ],
      "text/plain": [
       "     nbfreeedock  nbbikeoverflow  nbedock overflowactivation  densitylevel  \\\n",
       "920           21               0       39                 no             0   \n",
       "\n",
       "    creditcard                                            station  \\\n",
       "920         no  {\"code\": \"44101\", \"name\": \"Place Mongolfier\", ...   \n",
       "\n",
       "     maxbikeoverflow kioskstate  nbfreedock  ...  nbebike nbebikeoverflow  \\\n",
       "920                0        yes           0  ...        6               0   \n",
       "\n",
       "     station_code      station_name  station_state  station_type  \\\n",
       "920         44101  Place Mongolfier      Operative           yes   \n",
       "\n",
       "                              geo     duedate       lat       lng  \n",
       "920  48.8151600301, 2.45928794146  2018-10-30  48.81516  2.459288  \n",
       "\n",
       "[1 rows x 23 columns]"
      ]
     },
     "execution_count": 70,
     "metadata": {},
     "output_type": "execute_result"
    }
   ],
   "source": [
    "stations[stations['station_name'].str.contains(\"Mongolfier\")]"
   ]
  },
  {
   "cell_type": "code",
   "execution_count": 71,
   "metadata": {},
   "outputs": [
    {
     "data": {
      "text/html": [
       "<div>\n",
       "<style scoped>\n",
       "    .dataframe tbody tr th:only-of-type {\n",
       "        vertical-align: middle;\n",
       "    }\n",
       "\n",
       "    .dataframe tbody tr th {\n",
       "        vertical-align: top;\n",
       "    }\n",
       "\n",
       "    .dataframe thead th {\n",
       "        text-align: right;\n",
       "    }\n",
       "</style>\n",
       "<table border=\"1\" class=\"dataframe\">\n",
       "  <thead>\n",
       "    <tr style=\"text-align: right;\">\n",
       "      <th></th>\n",
       "      <th>nbfreeedock</th>\n",
       "      <th>nbbikeoverflow</th>\n",
       "      <th>nbedock</th>\n",
       "      <th>densitylevel</th>\n",
       "      <th>maxbikeoverflow</th>\n",
       "      <th>nbfreedock</th>\n",
       "      <th>nbbike</th>\n",
       "      <th>nbdock</th>\n",
       "      <th>nbebike</th>\n",
       "      <th>nbebikeoverflow</th>\n",
       "      <th>station_code</th>\n",
       "      <th>lat</th>\n",
       "      <th>lng</th>\n",
       "    </tr>\n",
       "  </thead>\n",
       "  <tbody>\n",
       "    <tr>\n",
       "      <th>count</th>\n",
       "      <td>1390.000000</td>\n",
       "      <td>1390.000000</td>\n",
       "      <td>1390.000000</td>\n",
       "      <td>1390.000000</td>\n",
       "      <td>1390.000000</td>\n",
       "      <td>1390.000000</td>\n",
       "      <td>1390.000000</td>\n",
       "      <td>1390.000000</td>\n",
       "      <td>1390.000000</td>\n",
       "      <td>1390.000000</td>\n",
       "      <td>1390.000000</td>\n",
       "      <td>1390.000000</td>\n",
       "      <td>1390.000000</td>\n",
       "    </tr>\n",
       "    <tr>\n",
       "      <th>mean</th>\n",
       "      <td>16.902878</td>\n",
       "      <td>0.096403</td>\n",
       "      <td>25.396403</td>\n",
       "      <td>0.902878</td>\n",
       "      <td>16.276259</td>\n",
       "      <td>3.895683</td>\n",
       "      <td>5.263309</td>\n",
       "      <td>5.607914</td>\n",
       "      <td>4.564029</td>\n",
       "      <td>0.011511</td>\n",
       "      <td>18038.243165</td>\n",
       "      <td>48.857498</td>\n",
       "      <td>2.342518</td>\n",
       "    </tr>\n",
       "    <tr>\n",
       "      <th>std</th>\n",
       "      <td>13.138786</td>\n",
       "      <td>0.409641</td>\n",
       "      <td>16.005817</td>\n",
       "      <td>0.296231</td>\n",
       "      <td>18.383756</td>\n",
       "      <td>9.678559</td>\n",
       "      <td>5.924266</td>\n",
       "      <td>12.949793</td>\n",
       "      <td>3.985015</td>\n",
       "      <td>0.125324</td>\n",
       "      <td>12068.090148</td>\n",
       "      <td>0.028984</td>\n",
       "      <td>0.054749</td>\n",
       "    </tr>\n",
       "    <tr>\n",
       "      <th>min</th>\n",
       "      <td>0.000000</td>\n",
       "      <td>0.000000</td>\n",
       "      <td>0.000000</td>\n",
       "      <td>0.000000</td>\n",
       "      <td>0.000000</td>\n",
       "      <td>0.000000</td>\n",
       "      <td>0.000000</td>\n",
       "      <td>0.000000</td>\n",
       "      <td>0.000000</td>\n",
       "      <td>0.000000</td>\n",
       "      <td>1001.000000</td>\n",
       "      <td>48.765050</td>\n",
       "      <td>2.165597</td>\n",
       "    </tr>\n",
       "    <tr>\n",
       "      <th>25%</th>\n",
       "      <td>6.000000</td>\n",
       "      <td>0.000000</td>\n",
       "      <td>18.000000</td>\n",
       "      <td>1.000000</td>\n",
       "      <td>0.000000</td>\n",
       "      <td>0.000000</td>\n",
       "      <td>1.000000</td>\n",
       "      <td>0.000000</td>\n",
       "      <td>2.000000</td>\n",
       "      <td>0.000000</td>\n",
       "      <td>11003.250000</td>\n",
       "      <td>48.837978</td>\n",
       "      <td>2.306483</td>\n",
       "    </tr>\n",
       "    <tr>\n",
       "      <th>50%</th>\n",
       "      <td>16.000000</td>\n",
       "      <td>0.000000</td>\n",
       "      <td>25.000000</td>\n",
       "      <td>1.000000</td>\n",
       "      <td>11.000000</td>\n",
       "      <td>0.000000</td>\n",
       "      <td>3.000000</td>\n",
       "      <td>0.000000</td>\n",
       "      <td>4.000000</td>\n",
       "      <td>0.000000</td>\n",
       "      <td>16010.500000</td>\n",
       "      <td>48.858070</td>\n",
       "      <td>2.344589</td>\n",
       "    </tr>\n",
       "    <tr>\n",
       "      <th>75%</th>\n",
       "      <td>25.000000</td>\n",
       "      <td>0.000000</td>\n",
       "      <td>35.000000</td>\n",
       "      <td>1.000000</td>\n",
       "      <td>30.000000</td>\n",
       "      <td>1.000000</td>\n",
       "      <td>7.000000</td>\n",
       "      <td>1.000000</td>\n",
       "      <td>6.000000</td>\n",
       "      <td>0.000000</td>\n",
       "      <td>21118.750000</td>\n",
       "      <td>48.878110</td>\n",
       "      <td>2.378846</td>\n",
       "    </tr>\n",
       "    <tr>\n",
       "      <th>max</th>\n",
       "      <td>69.000000</td>\n",
       "      <td>11.000000</td>\n",
       "      <td>73.000000</td>\n",
       "      <td>1.000000</td>\n",
       "      <td>71.000000</td>\n",
       "      <td>63.000000</td>\n",
       "      <td>50.000000</td>\n",
       "      <td>70.000000</td>\n",
       "      <td>26.000000</td>\n",
       "      <td>2.000000</td>\n",
       "      <td>92008.000000</td>\n",
       "      <td>48.947022</td>\n",
       "      <td>2.538242</td>\n",
       "    </tr>\n",
       "  </tbody>\n",
       "</table>\n",
       "</div>"
      ],
      "text/plain": [
       "       nbfreeedock  nbbikeoverflow      nbedock  densitylevel  \\\n",
       "count  1390.000000     1390.000000  1390.000000   1390.000000   \n",
       "mean     16.902878        0.096403    25.396403      0.902878   \n",
       "std      13.138786        0.409641    16.005817      0.296231   \n",
       "min       0.000000        0.000000     0.000000      0.000000   \n",
       "25%       6.000000        0.000000    18.000000      1.000000   \n",
       "50%      16.000000        0.000000    25.000000      1.000000   \n",
       "75%      25.000000        0.000000    35.000000      1.000000   \n",
       "max      69.000000       11.000000    73.000000      1.000000   \n",
       "\n",
       "       maxbikeoverflow   nbfreedock       nbbike       nbdock      nbebike  \\\n",
       "count      1390.000000  1390.000000  1390.000000  1390.000000  1390.000000   \n",
       "mean         16.276259     3.895683     5.263309     5.607914     4.564029   \n",
       "std          18.383756     9.678559     5.924266    12.949793     3.985015   \n",
       "min           0.000000     0.000000     0.000000     0.000000     0.000000   \n",
       "25%           0.000000     0.000000     1.000000     0.000000     2.000000   \n",
       "50%          11.000000     0.000000     3.000000     0.000000     4.000000   \n",
       "75%          30.000000     1.000000     7.000000     1.000000     6.000000   \n",
       "max          71.000000    63.000000    50.000000    70.000000    26.000000   \n",
       "\n",
       "       nbebikeoverflow  station_code          lat          lng  \n",
       "count      1390.000000   1390.000000  1390.000000  1390.000000  \n",
       "mean          0.011511  18038.243165    48.857498     2.342518  \n",
       "std           0.125324  12068.090148     0.028984     0.054749  \n",
       "min           0.000000   1001.000000    48.765050     2.165597  \n",
       "25%           0.000000  11003.250000    48.837978     2.306483  \n",
       "50%           0.000000  16010.500000    48.858070     2.344589  \n",
       "75%           0.000000  21118.750000    48.878110     2.378846  \n",
       "max           2.000000  92008.000000    48.947022     2.538242  "
      ]
     },
     "execution_count": 71,
     "metadata": {},
     "output_type": "execute_result"
    }
   ],
   "source": [
    "stations.describe()"
   ]
  },
  {
   "cell_type": "code",
   "execution_count": 73,
   "metadata": {},
   "outputs": [
    {
     "data": {
      "text/html": [
       "<div>\n",
       "<style scoped>\n",
       "    .dataframe tbody tr th:only-of-type {\n",
       "        vertical-align: middle;\n",
       "    }\n",
       "\n",
       "    .dataframe tbody tr th {\n",
       "        vertical-align: top;\n",
       "    }\n",
       "\n",
       "    .dataframe thead th {\n",
       "        text-align: right;\n",
       "    }\n",
       "</style>\n",
       "<table border=\"1\" class=\"dataframe\">\n",
       "  <thead>\n",
       "    <tr style=\"text-align: right;\">\n",
       "      <th></th>\n",
       "      <th>nbfreeedock</th>\n",
       "      <th>nbbikeoverflow</th>\n",
       "      <th>nbedock</th>\n",
       "      <th>overflowactivation</th>\n",
       "      <th>densitylevel</th>\n",
       "      <th>creditcard</th>\n",
       "      <th>station</th>\n",
       "      <th>maxbikeoverflow</th>\n",
       "      <th>kioskstate</th>\n",
       "      <th>nbfreedock</th>\n",
       "      <th>...</th>\n",
       "      <th>nbebike</th>\n",
       "      <th>nbebikeoverflow</th>\n",
       "      <th>station_code</th>\n",
       "      <th>station_name</th>\n",
       "      <th>station_state</th>\n",
       "      <th>station_type</th>\n",
       "      <th>geo</th>\n",
       "      <th>duedate</th>\n",
       "      <th>lat</th>\n",
       "      <th>lng</th>\n",
       "    </tr>\n",
       "  </thead>\n",
       "  <tbody>\n",
       "    <tr>\n",
       "      <th>991</th>\n",
       "      <td>8</td>\n",
       "      <td>0</td>\n",
       "      <td>45</td>\n",
       "      <td>no</td>\n",
       "      <td>1</td>\n",
       "      <td>no</td>\n",
       "      <td>{\"code\": \"31005\", \"name\": \"Square Denise Buiss...</td>\n",
       "      <td>0</td>\n",
       "      <td>yes</td>\n",
       "      <td>0</td>\n",
       "      <td>...</td>\n",
       "      <td>26</td>\n",
       "      <td>0</td>\n",
       "      <td>31005</td>\n",
       "      <td>Square Denise Buisson</td>\n",
       "      <td>Operative</td>\n",
       "      <td>yes</td>\n",
       "      <td>48.8562322731, 2.42643624544</td>\n",
       "      <td>2019-04-15</td>\n",
       "      <td>48.856232</td>\n",
       "      <td>2.426436</td>\n",
       "    </tr>\n",
       "  </tbody>\n",
       "</table>\n",
       "<p>1 rows × 23 columns</p>\n",
       "</div>"
      ],
      "text/plain": [
       "     nbfreeedock  nbbikeoverflow  nbedock overflowactivation  densitylevel  \\\n",
       "991            8               0       45                 no             1   \n",
       "\n",
       "    creditcard                                            station  \\\n",
       "991         no  {\"code\": \"31005\", \"name\": \"Square Denise Buiss...   \n",
       "\n",
       "     maxbikeoverflow kioskstate  nbfreedock  ...  nbebike nbebikeoverflow  \\\n",
       "991                0        yes           0  ...       26               0   \n",
       "\n",
       "     station_code           station_name  station_state  station_type  \\\n",
       "991         31005  Square Denise Buisson      Operative           yes   \n",
       "\n",
       "                              geo     duedate        lat       lng  \n",
       "991  48.8562322731, 2.42643624544  2019-04-15  48.856232  2.426436  \n",
       "\n",
       "[1 rows x 23 columns]"
      ]
     },
     "execution_count": 73,
     "metadata": {},
     "output_type": "execute_result"
    }
   ],
   "source": [
    "stations[stations['nbebike'] == stations.describe()['nbebike']['max']]"
   ]
  },
  {
   "cell_type": "code",
   "execution_count": 9,
   "metadata": {},
   "outputs": [
    {
     "data": {
      "text/plain": [
       "nbfreeedock             int64\n",
       "nbbikeoverflow          int64\n",
       "nbedock                 int64\n",
       "overflowactivation     object\n",
       "densitylevel            int64\n",
       "creditcard             object\n",
       "station                object\n",
       "maxbikeoverflow         int64\n",
       "kioskstate             object\n",
       "nbfreedock              int64\n",
       "nbbike                  int64\n",
       "overflow               object\n",
       "nbdock                  int64\n",
       "nbebike                 int64\n",
       "nbebikeoverflow         int64\n",
       "station_code            int64\n",
       "station_name           object\n",
       "station_state          object\n",
       "station_type           object\n",
       "geo                    object\n",
       "duedate                object\n",
       "lat                   float64\n",
       "lng                   float64\n",
       "dtype: object"
      ]
     },
     "execution_count": 9,
     "metadata": {},
     "output_type": "execute_result"
    }
   ],
   "source": [
    "stations[['lat','lng']] = stations['geo'].str.split(',',expand=True)\n",
    "stations[['lat','lng', 'nbfreeedock']]\n",
    "stations = stations.astype({'lng': 'float64', 'lat': 'float64'})\n",
    "stations.dtypes"
   ]
  },
  {
   "cell_type": "code",
   "execution_count": 10,
   "metadata": {
    "scrolled": true
   },
   "outputs": [
    {
     "data": {
      "text/plain": [
       "Index(['nbfreeedock', 'nbbikeoverflow', 'nbedock', 'overflowactivation',\n",
       "       'densitylevel', 'creditcard', 'station', 'maxbikeoverflow',\n",
       "       'kioskstate', 'nbfreedock', 'nbbike', 'overflow', 'nbdock', 'nbebike',\n",
       "       'nbebikeoverflow', 'station_code', 'station_name', 'station_state',\n",
       "       'station_type', 'geo', 'duedate', 'lat', 'lng'],\n",
       "      dtype='object')"
      ]
     },
     "execution_count": 10,
     "metadata": {},
     "output_type": "execute_result"
    }
   ],
   "source": [
    "stations.columns"
   ]
  },
  {
   "cell_type": "markdown",
   "metadata": {},
   "source": [
    "Configure Google Maps API Key: https://jupyter-gmaps.readthedocs.io/en/latest/authentication.html"
   ]
  },
  {
   "cell_type": "code",
   "execution_count": 11,
   "metadata": {},
   "outputs": [],
   "source": [
    "import os\n",
    "import gmaps\n",
    "import gmaps.datasets\n",
    "gmaps.configure(api_key=os.environ[\"GOOGLE_API_KEY\"])  # Your Google API key\n",
    "\n",
    "#print(\"Google Api Key:\", os.environ[\"GOOGLE_API_KEY\"])"
   ]
  },
  {
   "cell_type": "code",
   "execution_count": null,
   "metadata": {},
   "outputs": [],
   "source": [
    "paris_coordinates = (48.8566, 2.3522)\n",
    "\n"
   ]
  },
  {
   "cell_type": "code",
   "execution_count": 171,
   "metadata": {},
   "outputs": [
    {
     "data": {
      "application/vnd.jupyter.widget-view+json": {
       "model_id": "26a99632dd564e00abb0304cb4cf0491",
       "version_major": 2,
       "version_minor": 0
      },
      "text/plain": [
       "Figure(layout=FigureLayout(height='420px'))"
      ]
     },
     "metadata": {},
     "output_type": "display_data"
    }
   ],
   "source": [
    "stations_with_almost_no_ebikes = stations[stations['nbebike'] < 4]\n",
    "\n",
    "fig = gmaps.figure(center=paris_coordinates, zoom_level=13)\n",
    "\n",
    "almost_no_ebikes_heatmap_layer = gmaps.heatmap_layer(stations_with_almost_no_ebikes[['lat', 'lng']])#\n",
    "almost_no_ebikes_heatmap_layer.gradient = [(200, 200, 200, 0.0), 'yellow', 'red']\n",
    "#almost_no_ebikes_heatmap_layer.max_intensity = 1\n",
    "almost_no_ebikes_heatmap_layer.point_radius = 32\n",
    "\n",
    "fig.add_layer(heatmap_layer)\n",
    "#fig.add_layer(gmaps.bicycling_layer())\n",
    "\n",
    "fig"
   ]
  },
  {
   "cell_type": "code",
   "execution_count": 174,
   "metadata": {},
   "outputs": [
    {
     "data": {
      "application/vnd.jupyter.widget-view+json": {
       "model_id": "df0685f05a7e4ac89339406fdb3b0a55",
       "version_major": 2,
       "version_minor": 0
      },
      "text/plain": [
       "Figure(layout=FigureLayout(height='420px'))"
      ]
     },
     "metadata": {},
     "output_type": "display_data"
    }
   ],
   "source": [
    "stations_with_many_ebikes = stations[stations['nbebike'] > 5]\n",
    "\n",
    "fig = gmaps.figure(center=paris_coordinates, zoom_level=13)\n",
    "\n",
    "many_ebikes_heatmap_layer = gmaps.heatmap_layer(stations_with_many_ebikes[['lat', 'lng']])#\n",
    "many_ebikes_heatmap_layer.gradient = [(200, 200, 200, 0.0), 'yellow', 'green']\n",
    "#many_ebikes_heatmap_layer.max_intensity = 2\n",
    "many_ebikes_heatmap_layer.point_radius = 32\n",
    "\n",
    "fig.add_layer(many_ebikes_heatmap_layer)\n",
    "#fig.add_layer(gmaps.bicycling_layer())\n",
    "\n",
    "fig"
   ]
  },
  {
   "cell_type": "code",
   "execution_count": 175,
   "metadata": {},
   "outputs": [
    {
     "data": {
      "application/vnd.jupyter.widget-view+json": {
       "model_id": "f8779abd34db421a948e3a4fd8378835",
       "version_major": 2,
       "version_minor": 0
      },
      "text/plain": [
       "Figure(layout=FigureLayout(height='420px'))"
      ]
     },
     "metadata": {},
     "output_type": "display_data"
    }
   ],
   "source": [
    "\n",
    "fig = gmaps.figure(center=paris_coordinates, zoom_level=13)\n",
    "\n",
    "fig.add_layer(almost_no_ebikes_heatmap_layer)\n",
    "fig.add_layer(many_ebikes_heatmap_layer)\n",
    "#fig.add_layer(gmaps.bicycling_layer())\n",
    "\n",
    "fig"
   ]
  },
  {
   "cell_type": "code",
   "execution_count": 132,
   "metadata": {},
   "outputs": [
    {
     "data": {
      "application/vnd.jupyter.widget-view+json": {
       "model_id": "592a4bbd9f3c4f96a8ca2bf0d2379b98",
       "version_major": 2,
       "version_minor": 0
      },
      "text/plain": [
       "Figure(layout=FigureLayout(height='420px'))"
      ]
     },
     "metadata": {},
     "output_type": "display_data"
    }
   ],
   "source": [
    "paris_coordinates = (48.8566, 2.3522)\n",
    "\n",
    "fig = gmaps.figure(center=paris_coordinates, zoom_level=13)\n",
    "heatmap_layer = gmaps.heatmap_layer(stations[['lat', 'lng']], weights=stations['nbebike'])\n",
    "heatmap_layer.gradient = [(200, 200, 200, 0.0), 'yellow', 'green']\n",
    "heatmap_layer.max_intensity = 32\n",
    "heatmap_layer.point_radius = 32\n",
    "\n",
    "fig.add_layer(heatmap_layer)\n",
    "fig.add_layer(gmaps.bicycling_layer())\n",
    "\n",
    "fig"
   ]
  },
  {
   "cell_type": "code",
   "execution_count": 107,
   "metadata": {},
   "outputs": [
    {
     "name": "stdout",
     "output_type": "stream",
     "text": [
      "[(48.865983, 2.275725, 24), (48.8537558106, 2.33909580857, 20), (48.8678724847, 2.36489821581, 30), (48.8792959173, 2.33736008406, 20)]\n",
      "['rgba(200,200,200,0.0)', 'yellow', 'green']\n"
     ]
    },
    {
     "data": {
      "application/vnd.jupyter.widget-view+json": {
       "model_id": "6fd6b813cdc74d0983c3932e7989fcd8",
       "version_major": 2,
       "version_minor": 0
      },
      "text/plain": [
       "Figure(layout=FigureLayout(height='420px'))"
      ]
     },
     "metadata": {},
     "output_type": "display_data"
    }
   ],
   "source": [
    "fig = gmaps.figure(center=paris_coordinates, zoom_level=13)\n",
    "heatmap_layer = gmaps.heatmap_layer(stations[['lat', 'lng']], weights=stations['nbfreeedock'])\n",
    "heatmap_layer.gradient = [(200, 200, 200, 0.0), 'yellow', 'green']\n",
    "heatmap_layer.max_intensity = 64\n",
    "heatmap_layer.point_radius = 32\n",
    "\n",
    "print(heatmap_layer.gradient)\n",
    "fig.add_layer(heatmap_layer)\n",
    "fig.add_layer(gmaps.bicycling_layer())\n",
    "\n",
    "fig"
   ]
  },
  {
   "cell_type": "code",
   "execution_count": null,
   "metadata": {},
   "outputs": [],
   "source": [
    "no_ebike = stations[stations['nbebike'] == 0]\n",
    "almost_no_ebike = stations[(stations['nbebike'] > 0) & (stations['nbebike'] < 4)]\n",
    "ebikes = stations[stations['nbebike'] > 3]"
   ]
  },
  {
   "cell_type": "code",
   "execution_count": 94,
   "metadata": {
    "collapsed": true,
    "jupyter": {
     "outputs_hidden": true
    }
   },
   "outputs": [
    {
     "name": "stdout",
     "output_type": "stream",
     "text": [
      "[{'station_name': 'Benjamin Godard - Victor Hugo', 'nbebike': 3, 'nbfreeedock': 24}, {'station_name': 'André Mazet - Saint-André des Arts', 'nbebike': 9, 'nbfreeedock': 20}, {'station_name': 'Faubourg Du Temple - Republique', 'nbebike': 5, 'nbfreeedock': 30}, {'station_name': 'Toudouze - Clauzel', 'nbebike': 1, 'nbfreeedock': 20}]\n"
     ]
    },
    {
     "data": {
      "application/vnd.jupyter.widget-view+json": {
       "model_id": "2370ef122bdd45c2af812b1d5725f27c",
       "version_major": 2,
       "version_minor": 0
      },
      "text/plain": [
       "Figure(layout=FigureLayout(height='420px'))"
      ]
     },
     "metadata": {},
     "output_type": "display_data"
    }
   ],
   "source": [
    "scale = 3\n",
    "\n",
    "no_ebike_layer = gmaps.symbol_layer(\n",
    "    no_ebike[['lat', 'lng']], fill_color='red',\n",
    "    stroke_color='red', scale=scale\n",
    ")\n",
    "\n",
    "almost_no_ebike_layer = gmaps.symbol_layer(\n",
    "    almost_no_ebike[['lat', 'lng']], fill_color='yellow',\n",
    "    stroke_color='yellow', scale=scale\n",
    ")\n",
    "\n",
    "ebikes_layer = gmaps.symbol_layer(\n",
    "    ebikes[['lat', 'lng']], fill_color='green',\n",
    "    stroke_color='green', scale=scale\n",
    ")\n",
    "\n",
    "info_box_template = \"\"\"\n",
    "<dl>\n",
    "<dt>Name</dt><dd>{station_name}</dd>\n",
    "<dt>Nb ebikes</dt><dd>{nbebike}</dd>\n",
    "<dt>Nb free docks</dt><dd>{nbfreeedock}</dd>\n",
    "</dl>\n",
    "\"\"\"\n",
    "station_info = [info_box_template.format(**station) for station in stations[['station_name', 'nbebike', 'nbfreeedock']].to_dict('records')]\n",
    "\n",
    "marker_layer = gmaps.marker_layer(stations[['lat', 'lng']], info_box_content=station_info)\n",
    "\n",
    "fig = gmaps.figure(center=paris_coordinates, zoom_level=12)\n",
    "\n",
    "fig.add_layer(no_ebike_layer)\n",
    "fig.add_layer(almost_no_ebike_layer)\n",
    "fig.add_layer(ebikes_layer)\n",
    "#fig.add_layer(marker_layer)\n",
    "\n",
    "fig"
   ]
  },
  {
   "cell_type": "code",
   "execution_count": null,
   "metadata": {},
   "outputs": [],
   "source": []
  }
 ],
 "metadata": {
  "kernelspec": {
   "display_name": "Python 3",
   "language": "python",
   "name": "python3"
  },
  "language_info": {
   "codemirror_mode": {
    "name": "ipython",
    "version": 3
   },
   "file_extension": ".py",
   "mimetype": "text/x-python",
   "name": "python",
   "nbconvert_exporter": "python",
   "pygments_lexer": "ipython3",
   "version": "3.6.8"
  }
 },
 "nbformat": 4,
 "nbformat_minor": 4
}
