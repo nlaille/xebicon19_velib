{
 "cells": [
  {
   "cell_type": "markdown",
   "metadata": {},
   "source": [
    "# Velib stations usage\n",
    "\n",
    "Inspired from notebooks: https://nbviewer.jupyter.org/github/jorisvandenbossche/talks/blob/master/2017_EuroScipy_geopandas/geopandas_demo.ipynb"
   ]
  },
  {
   "cell_type": "code",
   "execution_count": null,
   "metadata": {},
   "outputs": [],
   "source": [
    "%matplotlib inline\n",
    "import os\n",
    "\n",
    "import pandas as pd\n",
    "import geopandas as gpd\n",
    "import folium\n",
    "\n",
    "pd.options.display.max_rows = 10"
   ]
  },
  {
   "cell_type": "code",
   "execution_count": null,
   "metadata": {
    "tags": [
     "parameters"
    ]
   },
   "outputs": [],
   "source": [
    "# Parameters\n",
    "year=2019\n",
    "month=11\n",
    "day=7\n",
    "hour=12"
   ]
  },
  {
   "cell_type": "markdown",
   "metadata": {},
   "source": [
    "## Get stations dataset\n",
    "\n",
    "Copy geojson dataset from smovengo minio bucket"
   ]
  },
  {
   "cell_type": "code",
   "execution_count": null,
   "metadata": {},
   "outputs": [],
   "source": [
    "# Get path to data\n",
    "data_path = os.path.join(\"s3://smovengo/\", f\"{year:04d}\", f\"{month:02d}\", f\"{day:02d}\", f\"{hour:02d}.geojson\")"
   ]
  },
  {
   "cell_type": "code",
   "execution_count": null,
   "metadata": {},
   "outputs": [],
   "source": [
    "%%bash -s $data_path\n",
    "aws s3 cp --endpoint-url $AWS_S3_ENDPOINT $1 stations.geojson "
   ]
  },
  {
   "cell_type": "markdown",
   "metadata": {},
   "source": [
    "# Get district and velib stations\n",
    "\n",
    "From opendata.paris.fr\n",
    "\n",
    "- https://opendata.paris.fr/explore/dataset/quartier_paris\n",
    "- https://opendata.paris.fr/explore/dataset/velib-disponibilite-en-temps-reel"
   ]
  },
  {
   "cell_type": "markdown",
   "metadata": {},
   "source": [
    "## District dataset and overview"
   ]
  },
  {
   "cell_type": "code",
   "execution_count": null,
   "metadata": {},
   "outputs": [],
   "source": [
    "#https://jorisvandenbossche.github.io/blog/2017/09/19/geopandas-cython/\n",
    "#https://opendata.paris.fr/explore/dataset/quartier_paris/export/?location=12,48.85889,2.34692&basemap=jawg.streets\n",
    "#https://opendata.paris.fr/explore/dataset/velib-disponibilite-en-temps-reel/export/\n",
    "districts = gpd.read_file(\"https://opendata.paris.fr/explore/dataset/quartier_paris/download/?format=geojson&timezone=Europe/Paris\")\n",
    "districts.head()"
   ]
  },
  {
   "cell_type": "code",
   "execution_count": null,
   "metadata": {},
   "outputs": [],
   "source": [
    "districts.plot(figsize=(10, 10))"
   ]
  },
  {
   "cell_type": "markdown",
   "metadata": {},
   "source": [
    "## Stations dataset and overview"
   ]
  },
  {
   "cell_type": "code",
   "execution_count": null,
   "metadata": {},
   "outputs": [],
   "source": [
    "#\"https://opendata.paris.fr/explore/dataset/velib-disponibilite-en-temps-reel/download/?format=geojson&timezone=Europe/Paris\"\n",
    "stations = gpd.read_file(\"stations.geojson\")\n",
    "stations[['station_state', 'station_name', 'nbedock', 'nbebike', 'nbfreeedock', 'nbebikeoverflow', 'geometry']].head()"
   ]
  },
  {
   "cell_type": "code",
   "execution_count": null,
   "metadata": {},
   "outputs": [],
   "source": [
    "operative_stations = stations[stations['station_state'] == 'Operative'].copy()\n",
    "operative_stations['nbedock'].hist()"
   ]
  },
  {
   "cell_type": "markdown",
   "metadata": {},
   "source": [
    "## Aggregate velib per district"
   ]
  },
  {
   "cell_type": "code",
   "execution_count": null,
   "metadata": {},
   "outputs": [],
   "source": [
    "# Counts available velib per districts\n",
    "stations_per_district = gpd.sjoin(stations, districts[['l_qu', 'geometry']].copy(), op='within')\n",
    "counts = stations_per_district.groupby('l_qu').size()\n",
    "velib_per_districts = districts.merge(counts.reset_index(name='nb_ebike_stations'))\n",
    "velib_per_districts['nb_ebike_stations_relative_to_area'] = velib_per_districts['nb_ebike_stations'] / velib_per_districts.geometry.area"
   ]
  },
  {
   "cell_type": "code",
   "execution_count": null,
   "metadata": {},
   "outputs": [],
   "source": [
    "ax = velib_per_districts.plot(column='nb_ebike_stations', cmap='inferno', figsize=(15, 6), legend=True)\n",
    "ax.set_axis_off()"
   ]
  }
 ],
 "metadata": {
  "celltoolbar": "Aucun(e)",
  "kernelspec": {
   "display_name": "Python 3",
   "language": "python",
   "name": "python3"
  },
  "language_info": {
   "codemirror_mode": {
    "name": "ipython",
    "version": 3
   },
   "file_extension": ".py",
   "mimetype": "text/x-python",
   "name": "python",
   "nbconvert_exporter": "python",
   "pygments_lexer": "ipython3",
   "version": "3.7.3"
  },
  "nteract": {
   "version": "nteract-on-jupyter@1.1.3"
  }
 },
 "nbformat": 4,
 "nbformat_minor": 4
}
